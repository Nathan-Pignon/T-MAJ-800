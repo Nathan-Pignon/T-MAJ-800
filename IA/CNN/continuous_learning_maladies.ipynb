{
 "cells": [
  {
   "cell_type": "code",
   "execution_count": 13,
   "metadata": {
    "collapsed": true,
    "ExecuteTime": {
     "start_time": "2023-07-11T10:09:57.630762Z",
     "end_time": "2023-07-11T10:09:57.652495Z"
    }
   },
   "outputs": [],
   "source": [
    "from tensorflow.keras.models import load_model\n",
    "from tensorflow.keras.preprocessing.image import ImageDataGenerator"
   ]
  },
  {
   "cell_type": "code",
   "execution_count": 14,
   "outputs": [],
   "source": [
    "PATH=\"./Datas/Grape/\"\n",
    "PATH_NEW_DATAS=\"./Datas/new/\"\n",
    "BATCH_SIZE = 64\n",
    "IMG_SIZE = (160, 160)\n",
    "EPOCHS = 5"
   ],
   "metadata": {
    "collapsed": false,
    "ExecuteTime": {
     "start_time": "2023-07-11T10:09:57.644892Z",
     "end_time": "2023-07-11T10:09:57.699236Z"
    }
   }
  },
  {
   "cell_type": "code",
   "execution_count": 15,
   "outputs": [
    {
     "name": "stdout",
     "output_type": "stream",
     "text": [
      "Found 4 images belonging to 4 classes.\n",
      "Found 924 images belonging to 4 classes.\n",
      "Epoch 1/5\n",
      "1/1 [==============================] - 18s 18s/step - loss: 5.5432e-06 - accuracy: 1.0000 - val_loss: 0.1472 - val_accuracy: 0.9545\n",
      "Epoch 2/5\n",
      "1/1 [==============================] - 2s 2s/step - loss: 5.1856e-06 - accuracy: 1.0000 - val_loss: 0.1523 - val_accuracy: 0.9535\n",
      "Epoch 3/5\n",
      "1/1 [==============================] - 2s 2s/step - loss: 4.8875e-06 - accuracy: 1.0000 - val_loss: 0.1570 - val_accuracy: 0.9502\n",
      "Epoch 4/5\n",
      "1/1 [==============================] - 2s 2s/step - loss: 4.6491e-06 - accuracy: 1.0000 - val_loss: 0.1613 - val_accuracy: 0.9481\n",
      "Epoch 5/5\n",
      "1/1 [==============================] - 2s 2s/step - loss: 4.4405e-06 - accuracy: 1.0000 - val_loss: 0.1654 - val_accuracy: 0.9470\n"
     ]
    }
   ],
   "source": [
    "# Load the saved model\n",
    "model = load_model('model.h5')\n",
    "\n",
    "# Create a data generator for the new data\n",
    "image_generator = ImageDataGenerator(rescale=1/255, validation_split=0.2)\n",
    "\n",
    "# Load the new data using the data generator\n",
    "new_data_generator = image_generator.flow_from_directory(batch_size=BATCH_SIZE,\n",
    "                                                 directory=PATH_NEW_DATAS,\n",
    "                                                 shuffle=True,\n",
    "                                                 target_size=IMG_SIZE,\n",
    "                                                 subset=\"training\",\n",
    "                                                 class_mode='categorical')\n",
    "\n",
    "val_ds = image_generator.flow_from_directory(batch_size=BATCH_SIZE,\n",
    "                                             directory=PATH,\n",
    "                                             shuffle=True,\n",
    "                                             target_size=IMG_SIZE,\n",
    "                                             subset=\"validation\",\n",
    "                                             class_mode='categorical')\n",
    "\n",
    "# Train the model on the new data\n",
    "model.fit(new_data_generator, epochs=EPOCHS, validation_data=val_ds)\n",
    "\n",
    "# Save the model again\n",
    "model.save('model.h5')"
   ],
   "metadata": {
    "collapsed": false,
    "ExecuteTime": {
     "start_time": "2023-07-11T10:09:57.665035Z",
     "end_time": "2023-07-11T10:10:29.024591Z"
    }
   }
  },
  {
   "cell_type": "code",
   "execution_count": 16,
   "outputs": [
    {
     "name": "stdout",
     "output_type": "stream",
     "text": [
      "15/15 [==============================] - 2s 134ms/step - loss: 0.1654 - accuracy: 0.9470\n",
      "Final loss: 0.17\n",
      "Final accuracy: 0.95\n"
     ]
    }
   ],
   "source": [
    "final_loss, final_accuracy = model.evaluate(val_ds)\n",
    "print(\"Final loss: {:.2f}\".format(final_loss))\n",
    "print(\"Final accuracy: {:.2f}\".format(final_accuracy))"
   ],
   "metadata": {
    "collapsed": false,
    "ExecuteTime": {
     "start_time": "2023-07-11T10:10:29.027592Z",
     "end_time": "2023-07-11T10:10:31.362207Z"
    }
   }
  }
 ],
 "metadata": {
  "kernelspec": {
   "display_name": "Python 3",
   "language": "python",
   "name": "python3"
  },
  "language_info": {
   "codemirror_mode": {
    "name": "ipython",
    "version": 2
   },
   "file_extension": ".py",
   "mimetype": "text/x-python",
   "name": "python",
   "nbconvert_exporter": "python",
   "pygments_lexer": "ipython2",
   "version": "2.7.6"
  }
 },
 "nbformat": 4,
 "nbformat_minor": 0
}

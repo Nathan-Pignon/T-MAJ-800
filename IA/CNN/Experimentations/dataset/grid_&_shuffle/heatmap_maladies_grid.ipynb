{
 "cells": [
  {
   "cell_type": "code",
   "execution_count": 1,
   "metadata": {
    "collapsed": true,
    "ExecuteTime": {
     "start_time": "2023-07-18T10:35:46.661146Z",
     "end_time": "2023-07-18T10:35:51.126779Z"
    }
   },
   "outputs": [],
   "source": [
    "# Heatmaps and Grad-CAM\n",
    "import sys\n",
    "sys.path.insert(0, '../../../common')\n",
    "import os\n",
    "import numpy as np\n",
    "import tensorflow as tf\n",
    "from tensorflow.keras.models import load_model\n",
    "from cam import get_img_array, make_gradcam_heatmap, display_heatmaps\n",
    "import cv2\n",
    "import matplotlib.pyplot as plt"
   ]
  },
  {
   "cell_type": "code",
   "execution_count": 2,
   "outputs": [
    {
     "name": "stdout",
     "output_type": "stream",
     "text": [
      "WARNING:tensorflow:Error in loading the saved optimizer state. As a result, your model is starting with a freshly initialized optimizer.\n"
     ]
    },
    {
     "ename": "error",
     "evalue": "OpenCV(4.7.0) D:\\a\\opencv-python\\opencv-python\\opencv\\modules\\imgproc\\src\\resize.cpp:4062: error: (-215:Assertion failed) !ssize.empty() in function 'cv::resize'\n",
     "output_type": "error",
     "traceback": [
      "\u001B[1;31m---------------------------------------------------------------------------\u001B[0m",
      "\u001B[1;31merror\u001B[0m                                     Traceback (most recent call last)",
      "\u001B[1;32m~\\AppData\\Local\\Temp\\ipykernel_5424\\66497470.py\u001B[0m in \u001B[0;36m<module>\u001B[1;34m\u001B[0m\n\u001B[0;32m     29\u001B[0m     \u001B[0mheatmaps\u001B[0m \u001B[1;33m=\u001B[0m \u001B[1;33m[\u001B[0m\u001B[1;33m]\u001B[0m\u001B[1;33m\u001B[0m\u001B[1;33m\u001B[0m\u001B[0m\n\u001B[0;32m     30\u001B[0m     \u001B[0mimage_temp\u001B[0m \u001B[1;33m=\u001B[0m \u001B[0mcv2\u001B[0m\u001B[1;33m.\u001B[0m\u001B[0mimread\u001B[0m\u001B[1;33m(\u001B[0m\u001B[0mimage\u001B[0m\u001B[1;33m[\u001B[0m\u001B[1;34m\"path\"\u001B[0m\u001B[1;33m]\u001B[0m\u001B[1;33m)\u001B[0m\u001B[1;33m\u001B[0m\u001B[1;33m\u001B[0m\u001B[0m\n\u001B[1;32m---> 31\u001B[1;33m     \u001B[0mimage_temp\u001B[0m \u001B[1;33m=\u001B[0m \u001B[0mcv2\u001B[0m\u001B[1;33m.\u001B[0m\u001B[0mresize\u001B[0m\u001B[1;33m(\u001B[0m\u001B[0mimage_temp\u001B[0m\u001B[1;33m,\u001B[0m \u001B[1;33m(\u001B[0m\u001B[0mimg_width\u001B[0m\u001B[1;33m,\u001B[0m \u001B[0mimg_height\u001B[0m\u001B[1;33m)\u001B[0m\u001B[1;33m)\u001B[0m\u001B[1;33m\u001B[0m\u001B[1;33m\u001B[0m\u001B[0m\n\u001B[0m\u001B[0;32m     32\u001B[0m \u001B[1;33m\u001B[0m\u001B[0m\n\u001B[0;32m     33\u001B[0m     \u001B[0mplt\u001B[0m\u001B[1;33m.\u001B[0m\u001B[0mimshow\u001B[0m\u001B[1;33m(\u001B[0m\u001B[0mcv2\u001B[0m\u001B[1;33m.\u001B[0m\u001B[0mcvtColor\u001B[0m\u001B[1;33m(\u001B[0m\u001B[0mimage_temp\u001B[0m\u001B[1;33m,\u001B[0m \u001B[0mcv2\u001B[0m\u001B[1;33m.\u001B[0m\u001B[0mCOLOR_BGR2RGB\u001B[0m\u001B[1;33m)\u001B[0m\u001B[1;33m)\u001B[0m\u001B[1;33m\u001B[0m\u001B[1;33m\u001B[0m\u001B[0m\n",
      "\u001B[1;31merror\u001B[0m: OpenCV(4.7.0) D:\\a\\opencv-python\\opencv-python\\opencv\\modules\\imgproc\\src\\resize.cpp:4062: error: (-215:Assertion failed) !ssize.empty() in function 'cv::resize'\n"
     ]
    }
   ],
   "source": [
    "# Heatmap\n",
    "images = [\n",
    "    {\n",
    "        \"path\": \"../../../Datas/shuffle/LEAF_BLIGHT/shuffled_0cd6d9f4-ffa6-49a6-aa21-a7955d1bef56___FAM_L.Blight 1641.JPG\"\n",
    "    },\n",
    "    {\n",
    "        \"path\": \"../../../Datas/shuffle/LEAF_BLIGHT/grid_0cd6d9f4-ffa6-49a6-aa21-a7955d1bef56___FAM_L.Blight 1641.JPG\"\n",
    "    },\n",
    "    {\n",
    "        \"path\": \"../../../Datas/shuffle/BLACK_ROT/shuffled_0b11ac6a-9e24-4d9c-bbe9-e180eb81ff38___FAM_B.Rot 0581.JPG\"\n",
    "    },\n",
    "    {\n",
    "        \"path\": \"../../../Datas/shuffle/BLACK_ROT/grid_0b11ac6a-9e24-4d9c-bbe9-e180eb81ff38___FAM_B.Rot 0581.JPG\"\n",
    "    }\n",
    "]\n",
    "\n",
    "img_width, img_height = 160, 160\n",
    "\n",
    "# Load the model\n",
    "model = load_model('model.h5')\n",
    "\n",
    "# Select last conv layer\n",
    "last_conv_layer_name = \"Conv_1\"\n",
    "\n",
    "# Remove last layer's softmax\n",
    "model.layers[-1].activation = None\n",
    "\n",
    "for image in images:\n",
    "    heatmaps = []\n",
    "    image_temp = cv2.imread(image[\"path\"])\n",
    "    image_temp = cv2.resize(image_temp, (img_width, img_height))\n",
    "\n",
    "    plt.imshow(cv2.cvtColor(image_temp, cv2.COLOR_BGR2RGB))\n",
    "    plt.show()\n",
    "\n",
    "    image[\"array\"] = get_img_array(image[\"path\"], size=(img_width, img_height))\n",
    "\n",
    "    for layer in model.layers:\n",
    "        if 'Conv' in layer.__class__.__name__:\n",
    "            try: # Use try/except block to handle layers that can't be handled by Grad-CAM\n",
    "                heatmap = make_gradcam_heatmap(image[\"array\"], model, layer.name)\n",
    "                heatmaps.append({\n",
    "                    \"layer_name\": layer.name,\n",
    "                    \"image\": heatmap\n",
    "                })\n",
    "            except Exception as e:\n",
    "                print(f'Failed to generate Grad-CAM for layer {layer.name}. Reason: {str(e)}')\n",
    "\n",
    "    # Display heatmaps from all layers until the last max pooling layer\n",
    "    display_heatmaps(image[\"path\"], heatmaps)\n",
    "\n",
    "    # Display the chosen image superimposed with heatmaps of each layer until the last max pooling layer\n",
    "    display_heatmaps(image[\"path\"], heatmaps, True)\n",
    "\n"
   ],
   "metadata": {
    "collapsed": false,
    "ExecuteTime": {
     "start_time": "2023-07-17T12:24:52.680289Z",
     "end_time": "2023-07-17T12:27:17.615170Z"
    }
   }
  }
 ],
 "metadata": {
  "kernelspec": {
   "display_name": "Python 3",
   "language": "python",
   "name": "python3"
  },
  "language_info": {
   "codemirror_mode": {
    "name": "ipython",
    "version": 2
   },
   "file_extension": ".py",
   "mimetype": "text/x-python",
   "name": "python",
   "nbconvert_exporter": "python",
   "pygments_lexer": "ipython2",
   "version": "2.7.6"
  }
 },
 "nbformat": 4,
 "nbformat_minor": 0
}

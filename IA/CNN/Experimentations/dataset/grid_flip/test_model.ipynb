{
 "cells": [
  {
   "cell_type": "code",
   "execution_count": 1,
   "metadata": {
    "collapsed": true,
    "ExecuteTime": {
     "start_time": "2023-07-18T17:12:14.063597Z",
     "end_time": "2023-07-18T17:12:18.522737Z"
    }
   },
   "outputs": [],
   "source": [
    "# Heatmaps and Grad-CAM\n",
    "import os\n",
    "import numpy as np\n",
    "import tensorflow as tf\n",
    "from IA.CNN.common.cam import get_img_array, make_gradcam_heatmap, display_heatmaps\n",
    "from tensorflow.keras.models import load_model\n",
    "import cv2\n",
    "import matplotlib.pyplot as plt"
   ]
  },
  {
   "cell_type": "code",
   "execution_count": 2,
   "outputs": [
    {
     "name": "stdout",
     "output_type": "stream",
     "text": [
      "WARNING:tensorflow:Error in loading the saved optimizer state. As a result, your model is starting with a freshly initialized optimizer.\n"
     ]
    },
    {
     "ename": "KeyError",
     "evalue": "'array'",
     "output_type": "error",
     "traceback": [
      "\u001B[1;31m---------------------------------------------------------------------------\u001B[0m",
      "\u001B[1;31mKeyError\u001B[0m                                  Traceback (most recent call last)",
      "\u001B[1;32m~\\AppData\\Local\\Temp\\ipykernel_17392\\4195588370.py\u001B[0m in \u001B[0;36m<module>\u001B[1;34m\u001B[0m\n\u001B[0;32m     32\u001B[0m \u001B[1;32mfor\u001B[0m \u001B[0mimage\u001B[0m \u001B[1;32min\u001B[0m \u001B[0mimages\u001B[0m\u001B[1;33m:\u001B[0m\u001B[1;33m\u001B[0m\u001B[1;33m\u001B[0m\u001B[0m\n\u001B[0;32m     33\u001B[0m     \u001B[1;31m# Préparez l'image pour le modèle\u001B[0m\u001B[1;33m\u001B[0m\u001B[1;33m\u001B[0m\u001B[0m\n\u001B[1;32m---> 34\u001B[1;33m     \u001B[0mimage_preprocessed\u001B[0m \u001B[1;33m=\u001B[0m \u001B[0mpreprocess_input\u001B[0m\u001B[1;33m(\u001B[0m\u001B[0mimage\u001B[0m\u001B[1;33m[\u001B[0m\u001B[1;34m\"array\"\u001B[0m\u001B[1;33m]\u001B[0m\u001B[1;33m)\u001B[0m\u001B[1;33m\u001B[0m\u001B[1;33m\u001B[0m\u001B[0m\n\u001B[0m\u001B[0;32m     35\u001B[0m \u001B[1;33m\u001B[0m\u001B[0m\n\u001B[0;32m     36\u001B[0m     \u001B[1;31m# Faites une prédiction\u001B[0m\u001B[1;33m\u001B[0m\u001B[1;33m\u001B[0m\u001B[0m\n",
      "\u001B[1;31mKeyError\u001B[0m: 'array'"
     ]
    }
   ],
   "source": [
    "from keras.applications.mobilenet_v2 import preprocess_input\n",
    "\n",
    "subfolders = ['BLACK_ROT', 'ESCA', 'HEALTHY', 'LEAF_BLIGHT']\n",
    "\n",
    "# Heatmap\n",
    "images = [\n",
    "    {\n",
    "        \"path\": \"../../../Datas/new/BLACK_ROT/0d907173-6ef8-4fbd-b682-f0a7a5263de0___FAM_B.Rot 3298.JPG\"\n",
    "    },\n",
    "    {\n",
    "        \"path\": \"../../../Datas/new/ESCA/0db65255-6c76-4685-93fe-2967f9040e78___FAM_B.Msls 1176.JPG\"\n",
    "    },\n",
    "    {\n",
    "        \"path\": \"../../../Datas/new/HEALTHY/1f9ead63-93e5-4379-885b-b2b57352202b___Mt.N.V_HL 8938.JPG\"\n",
    "    },\n",
    "    {\n",
    "        \"path\": \"../../../Datas/new/LEAF_BLIGHT/0feed390-3065-47dc-881b-a9beb29ff312___FAM_L.Blight 1663.JPG\"\n",
    "    }\n",
    "]\n",
    "\n",
    "img_width, img_height = 160, 160\n",
    "\n",
    "# Load the model\n",
    "model = load_model('model.h5')\n",
    "\n",
    "# Select last conv layer\n",
    "last_conv_layer_name = \"Conv_1\"\n",
    "\n",
    "# Remove last layer's softmax\n",
    "model.layers[-1].activation = None\n",
    "\n",
    "for image in images:\n",
    "    heatmaps = []\n",
    "    image_temp = cv2.imread(image[\"path\"])\n",
    "    image_temp = cv2.resize(image_temp, (img_width, img_height))\n",
    "\n",
    "    plt.imshow(cv2.cvtColor(image_temp, cv2.COLOR_BGR2RGB))\n",
    "    plt.show()\n",
    "\n",
    "    image[\"array\"] = get_img_array(image[\"path\"], size=(img_width, img_height))\n",
    "    \n",
    "    # Préparez l'image pour le modèle\n",
    "    image_preprocessed = preprocess_input(image[\"array\"])\n",
    "\n",
    "    # Faites une prédiction\n",
    "    predictions = model.predict(image_preprocessed)\n",
    "\n",
    "    # Obtenez l'indice de la classe prédite\n",
    "    predicted_index = np.argmax(predictions[0])\n",
    "\n",
    "    # Imprimez la classe prédite\n",
    "    print(f\"Predicted class: {subfolders[predicted_index]}\")\n",
    "\n",
    "    for layer in model.layers:\n",
    "        if 'Conv' in layer.__class__.__name__:\n",
    "            try: # Use try/except block to handle layers that can't be handled by Grad-CAM\n",
    "                heatmap = make_gradcam_heatmap(image[\"array\"], model, layer.name)\n",
    "                if np.isnan(heatmap).any():\n",
    "                    print(f'Heatmap for layer {layer.name} contains NaN values')\n",
    "                else:\n",
    "                    heatmaps.append({\n",
    "                        \"layer_name\": layer.name,\n",
    "                        \"image\": heatmap\n",
    "                    })\n",
    "            except Exception as e:\n",
    "                print(f'Failed to generate Grad-CAM for layer {layer.name}. Reason: {str(e)}')\n",
    "\n",
    "    # Display heatmaps from all layers until the last max pooling layer\n",
    "    display_heatmaps(image[\"path\"], heatmaps)\n",
    "\n",
    "    # Display the chosen image superimposed with heatmaps of each layer until the last max pooling layer\n",
    "    display_heatmaps(image[\"path\"], heatmaps, True)\n",
    "\n"
   ],
   "metadata": {
    "collapsed": false,
    "ExecuteTime": {
     "start_time": "2023-07-18T16:21:32.351385Z",
     "end_time": "2023-07-18T16:26:39.053155Z"
    }
   }
  }
 ],
 "metadata": {
  "kernelspec": {
   "display_name": "Python 3",
   "language": "python",
   "name": "python3"
  },
  "language_info": {
   "codemirror_mode": {
    "name": "ipython",
    "version": 2
   },
   "file_extension": ".py",
   "mimetype": "text/x-python",
   "name": "python",
   "nbconvert_exporter": "python",
   "pygments_lexer": "ipython2",
   "version": "2.7.6"
  }
 },
 "nbformat": 4,
 "nbformat_minor": 0
}

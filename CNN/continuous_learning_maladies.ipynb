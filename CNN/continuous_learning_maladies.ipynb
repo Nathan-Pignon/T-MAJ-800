{
 "cells": [
  {
   "cell_type": "code",
   "execution_count": 16,
   "metadata": {
    "collapsed": true,
    "ExecuteTime": {
     "start_time": "2023-07-10T15:50:49.628820Z",
     "end_time": "2023-07-10T15:50:49.639998Z"
    }
   },
   "outputs": [],
   "source": [
    "from tensorflow.keras.models import load_model\n",
    "from tensorflow.keras.preprocessing.image import ImageDataGenerator"
   ]
  },
  {
   "cell_type": "code",
   "execution_count": 17,
   "outputs": [],
   "source": [
    "PATH_NEW_DATAS=\"./Datas/new/\"\n",
    "BATCH_SIZE = 64\n",
    "IMG_SIZE = (160, 160)\n",
    "EPOCHS = 5"
   ],
   "metadata": {
    "collapsed": false,
    "ExecuteTime": {
     "start_time": "2023-07-10T15:50:49.643999Z",
     "end_time": "2023-07-10T15:50:49.681692Z"
    }
   }
  },
  {
   "cell_type": "code",
   "execution_count": 18,
   "outputs": [
    {
     "name": "stdout",
     "output_type": "stream",
     "text": [
      "Found 4 images belonging to 4 classes.\n",
      "Epoch 1/5\n",
      "1/1 [==============================] - 4s 4s/step - loss: 1.7216 - accuracy: 0.2500\n",
      "Epoch 2/5\n",
      "1/1 [==============================] - 0s 163ms/step - loss: 0.0636 - accuracy: 1.0000\n",
      "Epoch 3/5\n",
      "1/1 [==============================] - 0s 163ms/step - loss: 0.0073 - accuracy: 1.0000\n",
      "Epoch 4/5\n",
      "1/1 [==============================] - 0s 159ms/step - loss: 0.0018 - accuracy: 1.0000\n",
      "Epoch 5/5\n",
      "1/1 [==============================] - 0s 162ms/step - loss: 6.5635e-04 - accuracy: 1.0000\n"
     ]
    }
   ],
   "source": [
    "# Load the saved model\n",
    "model = load_model('model.h5')\n",
    "\n",
    "# Create a data generator for the new data\n",
    "datagen = ImageDataGenerator(rescale=1/255)\n",
    "\n",
    "# Load the new data using the data generator\n",
    "new_data_generator = datagen.flow_from_directory(batch_size=BATCH_SIZE,\n",
    "                                                 directory=PATH_NEW_DATAS,\n",
    "                                                 shuffle=True,\n",
    "                                                 target_size=IMG_SIZE,\n",
    "                                                 subset=\"training\",\n",
    "                                                 class_mode='categorical')\n",
    "\n",
    "# Train the model on the new data\n",
    "model.fit(new_data_generator, epochs=EPOCHS)\n",
    "\n",
    "# Save the model again\n",
    "model.save('model.h5')"
   ],
   "metadata": {
    "collapsed": false,
    "ExecuteTime": {
     "start_time": "2023-07-10T15:50:49.659348Z",
     "end_time": "2023-07-10T15:50:59.159052Z"
    }
   }
  }
 ],
 "metadata": {
  "kernelspec": {
   "display_name": "Python 3",
   "language": "python",
   "name": "python3"
  },
  "language_info": {
   "codemirror_mode": {
    "name": "ipython",
    "version": 2
   },
   "file_extension": ".py",
   "mimetype": "text/x-python",
   "name": "python",
   "nbconvert_exporter": "python",
   "pygments_lexer": "ipython2",
   "version": "2.7.6"
  }
 },
 "nbformat": 4,
 "nbformat_minor": 0
}
